{
 "cells": [
  {
   "cell_type": "code",
   "execution_count": 4,
   "id": "dbcebf41",
   "metadata": {},
   "outputs": [],
   "source": [
    "import pandas as pd\n",
    "import numpy as np\n",
    "data= pd.read_csv('IMDB Dataset.csv')\n",
    "data['sentiment'] = data['sentiment'].map({'positive': 1, 'negative': 0})\n",
    "data['review'] = data['review'].str.replace('<br />', ' ') \n",
    "\n",
    "\n"
   ]
  },
  {
   "cell_type": "code",
   "execution_count": 5,
   "id": "9016fc02",
   "metadata": {},
   "outputs": [
    {
     "data": {
      "text/html": [
       "<div>\n",
       "<style scoped>\n",
       "    .dataframe tbody tr th:only-of-type {\n",
       "        vertical-align: middle;\n",
       "    }\n",
       "\n",
       "    .dataframe tbody tr th {\n",
       "        vertical-align: top;\n",
       "    }\n",
       "\n",
       "    .dataframe thead th {\n",
       "        text-align: right;\n",
       "    }\n",
       "</style>\n",
       "<table border=\"1\" class=\"dataframe\">\n",
       "  <thead>\n",
       "    <tr style=\"text-align: right;\">\n",
       "      <th></th>\n",
       "      <th>review</th>\n",
       "      <th>sentiment</th>\n",
       "    </tr>\n",
       "  </thead>\n",
       "  <tbody>\n",
       "    <tr>\n",
       "      <th>0</th>\n",
       "      <td>One of the other reviewers has mentioned that ...</td>\n",
       "      <td>1</td>\n",
       "    </tr>\n",
       "    <tr>\n",
       "      <th>1</th>\n",
       "      <td>A wonderful little production.   The filming t...</td>\n",
       "      <td>1</td>\n",
       "    </tr>\n",
       "    <tr>\n",
       "      <th>2</th>\n",
       "      <td>I thought this was a wonderful way to spend ti...</td>\n",
       "      <td>1</td>\n",
       "    </tr>\n",
       "    <tr>\n",
       "      <th>3</th>\n",
       "      <td>Basically there's a family where a little boy ...</td>\n",
       "      <td>0</td>\n",
       "    </tr>\n",
       "    <tr>\n",
       "      <th>4</th>\n",
       "      <td>Petter Mattei's \"Love in the Time of Money\" is...</td>\n",
       "      <td>1</td>\n",
       "    </tr>\n",
       "  </tbody>\n",
       "</table>\n",
       "</div>"
      ],
      "text/plain": [
       "                                              review  sentiment\n",
       "0  One of the other reviewers has mentioned that ...          1\n",
       "1  A wonderful little production.   The filming t...          1\n",
       "2  I thought this was a wonderful way to spend ti...          1\n",
       "3  Basically there's a family where a little boy ...          0\n",
       "4  Petter Mattei's \"Love in the Time of Money\" is...          1"
      ]
     },
     "execution_count": 5,
     "metadata": {},
     "output_type": "execute_result"
    }
   ],
   "source": [
    "data.head()\n"
   ]
  },
  {
   "cell_type": "code",
   "execution_count": 6,
   "id": "eee75dd6",
   "metadata": {},
   "outputs": [
    {
     "name": "stdout",
     "output_type": "stream",
     "text": [
      "(50000, 2)\n",
      "418\n"
     ]
    }
   ],
   "source": [
    "print(data.shape)\n",
    "data.isnull().sum() # missing values \n",
    "\n",
    "print(data.duplicated().sum())  # duplicate values\n",
    "# data.remove_duplicates(inplace=True)\n",
    "# print(data.duplicated().sum())\n",
    "\n",
    "\n",
    "\n"
   ]
  },
  {
   "cell_type": "markdown",
   "id": "99a8fb03",
   "metadata": {},
   "source": [
    " Sentiment distribution-------->>>>>"
   ]
  },
  {
   "cell_type": "code",
   "execution_count": 7,
   "id": "f2c4b821",
   "metadata": {},
   "outputs": [
    {
     "name": "stdout",
     "output_type": "stream",
     "text": [
      "\n",
      " Sentiment distribution\n",
      "sentiment\n",
      "1    25000\n",
      "0    25000\n",
      "Name: count, dtype: int64\n"
     ]
    }
   ],
   "source": [
    "print(f\"\\n Sentiment distribution\")\n",
    "print(data['sentiment'].value_counts())\n"
   ]
  },
  {
   "cell_type": "markdown",
   "id": "1c9e2363",
   "metadata": {},
   "source": [
    "review lenth analyses ------------>>>>>>"
   ]
  },
  {
   "cell_type": "code",
   "execution_count": 8,
   "id": "f8cd0ca8",
   "metadata": {},
   "outputs": [
    {
     "name": "stdout",
     "output_type": "stream",
     "text": [
      "\n",
      " review length stats\n",
      "count    50000.000000\n",
      "mean      1289.236220\n",
      "std        974.203334\n",
      "min         32.000000\n",
      "25%        691.000000\n",
      "50%        957.000000\n",
      "75%       1563.000000\n",
      "max      13604.000000\n",
      "Name: Review_length, dtype: float64\n"
     ]
    }
   ],
   "source": [
    "print(f'\\n review length stats')\n",
    "data['Review_length']=data['review'].str.len()\n",
    "print(data['Review_length'].describe())"
   ]
  },
  {
   "cell_type": "markdown",
   "id": "49ffe2c7",
   "metadata": {},
   "source": [
    "Data preprcessing------------>>>>"
   ]
  },
  {
   "cell_type": "code",
   "execution_count": 9,
   "id": "057b9190",
   "metadata": {},
   "outputs": [],
   "source": [
    "import re\n",
    "def clean_text(text):\n",
    "    \"\"\"Clean and preprocess text data\"\"\"\n",
    "    if pd.isna(text):\n",
    "        return \"\"\n",
    "    \n",
    "    # Convert to lowercase\n",
    "    text = str(text).lower()\n",
    "    \n",
    "    # Remove HTML tags\n",
    "    text = re.sub(r'<.*?>', '', text)\n",
    "    \n",
    "    # Remove URLs\n",
    "    text = re.sub(r'http\\S+|www\\S+|https\\S+', '', text, flags=re.MULTILINE)\n",
    "    \n",
    "    # Remove special characters and digits\n",
    "    text = re.sub(r'[^a-zA-Z\\s]', '', text)\n",
    "    \n",
    "    # Remove extra whitespaces\n",
    "    text = ' '.join(text.split())\n",
    "    \n",
    "    return text\n"
   ]
  },
  {
   "cell_type": "code",
   "execution_count": 10,
   "id": "84aa57cf",
   "metadata": {},
   "outputs": [
    {
     "name": "stdout",
     "output_type": "stream",
     "text": [
      "\n",
      " after preprocess:50000 reviews\n",
      "\n",
      " semtiment distribution after preprocess :\n",
      "sentiment\n",
      "1    25000\n",
      "0    25000\n",
      "Name: count, dtype: int64\n"
     ]
    }
   ],
   "source": [
    "# clean the review\n",
    "data['cleaned_Review']= data['review'].apply(clean_text)\n",
    "\n",
    "# remove empty review\n",
    "data=data[data['cleaned_Review'].str.len()>0]\n",
    "\n",
    "#Encode sentiment labels(if they r texts)\n",
    "if data['sentiment'].dtype=='object':\n",
    "    sentiment_mapping={\n",
    "        'positive':1,'negative':0,\n",
    "        'pos':1,'neg':0,\n",
    "        '1':1,'0':0\n",
    "    }\n",
    "    data['sentiment']=data['sentiment'].str.lower().map(sentiment_mapping)\n",
    "\n",
    "# Remove any rows with unmapped sentiments\n",
    "data=data.dropna(subset=['sentiment']) \n",
    "\n",
    "print(f'\\n after preprocess:{data.shape[0]} reviews')\n",
    "print(f'\\n semtiment distribution after preprocess :')\n",
    "print(data['sentiment'].value_counts())"
   ]
  },
  {
   "cell_type": "markdown",
   "id": "9541c73e",
   "metadata": {},
   "source": [
    "feature engineering------->>>>>>>>>"
   ]
  },
  {
   "cell_type": "code",
   "execution_count": 11,
   "id": "de46c899",
   "metadata": {},
   "outputs": [
    {
     "name": "stdout",
     "output_type": "stream",
     "text": [
      "ceating Features...\n"
     ]
    }
   ],
   "source": [
    "\n",
    "print(\"ceating Features...\")\n",
    "    #text based features-->\n",
    "data['word_count']=data['cleaned_Review'].str.split().str.len()\n",
    "data['char_count']=data['cleaned_Review'].str.len()\n",
    "data['avg_word_length']=data['char_count']/ data['word_count']\n",
    "    \n",
    "     # Sentiment words count (simple approach)\n",
    "positive_words = ['good', 'great', 'excellent', 'amazing', 'wonderful', 'fantastic', 'love']\n",
    "negative_words = ['bad', 'terrible', 'awful', 'horrible', 'hate', 'worst', 'disappointing']\n",
    "    \n",
    "data['positive_word_count']=data['cleaned_Review'].apply(\n",
    "        lambda x:sum([word in x.lower() for word in positive_words])\n",
    "    )\n",
    "data['negative_word_count']= data['cleaned_Review'].apply(\n",
    "        lambda x:sum([word in x.lower() for word in negative_words])\n",
    "    )\n",
    "    \n",
    "   \n",
    "\n"
   ]
  },
  {
   "cell_type": "markdown",
   "id": "c6fbb498",
   "metadata": {},
   "source": [
    "Model training ------->>>>\n"
   ]
  },
  {
   "cell_type": "code",
   "execution_count": 12,
   "id": "1bffd4d7",
   "metadata": {},
   "outputs": [],
   "source": [
    "import numpy as np\n",
    "import matplotlib.pyplot as plt\n",
    "import seaborn as sns\n",
    "from sklearn.model_selection import train_test_split\n",
    "from sklearn.feature_extraction.text import TfidfVectorizer, CountVectorizer\n",
    "from sklearn.linear_model import LogisticRegression\n",
    "from sklearn.naive_bayes import MultinomialNB\n",
    "from sklearn.ensemble import RandomForestClassifier\n",
    "from sklearn.metrics import accuracy_score, classification_report, confusion_matrix\n",
    "from sklearn.pipeline import Pipeline\n",
    "import re\n",
    "import string\n",
    "#from wordcloud import WordCloud\n",
    "import streamlit as st\n",
    "import pickle\n",
    "import warnings\n",
    "warnings.filterwarnings('ignore')"
   ]
  },
  {
   "cell_type": "code",
   "execution_count": 13,
   "id": "a270c763",
   "metadata": {},
   "outputs": [
    {
     "name": "stdout",
     "output_type": "stream",
     "text": [
      "\n",
      "🔄 Performing Train-Test Split...\n",
      "Features (X) shape: (50000,)\n",
      "Target (y) shape: (50000,)\n"
     ]
    }
   ],
   "source": [
    "# =====================================================\n",
    "# 5. TRAIN-TEST SPLIT\n",
    "# =====================================================\n",
    "\n",
    "print(f\"\\n🔄 Performing Train-Test Split...\")\n",
    "\n",
    "# Extract features (X) and target (y)\n",
    "X = data['review']  # Features (text reviews)\n",
    "y = data['sentiment']  # Target (0 or 1)\n",
    "\n",
    "print(f\"Features (X) shape: {X.shape}\")\n",
    "print(f\"Target (y) shape: {y.shape}\")\n",
    "\n",
    "# Perform train-test split\n",
    "X_train, X_test, y_train, y_test = train_test_split(\n",
    "    X, y, \n",
    "    test_size=0.2,          # 20% for testing, 80% for training\n",
    "    random_state=42,        # For reproducible results\n",
    "    stratify=y              # Maintain same proportion of positive/negative in both sets\n",
    ")\n",
    "\n"
   ]
  },
  {
   "cell_type": "code",
   "execution_count": 14,
   "id": "cb035223",
   "metadata": {},
   "outputs": [
    {
     "name": "stdout",
     "output_type": "stream",
     "text": [
      "\n",
      "Train-Test Split Completed!\n",
      "==================================================\n",
      "Training set:\n",
      "  - Size: 40000 samples (80.0%)\n",
      "  - Positive reviews: 20000 (50.0%)\n",
      "  - Negative reviews: 20000 (50.0%)\n",
      "\n",
      "Testing set:\n",
      "  - Size: 10000 samples (20.0%)\n",
      "  - Positive reviews: 5000 (50.0%)\n",
      "  - Negative reviews: 5000 (50.0%)\n"
     ]
    }
   ],
   "source": [
    "# =====================================================\n",
    "# 6. DISPLAY SPLIT RESULTS\n",
    "# =====================================================\n",
    "\n",
    "print(f\"\\nTrain-Test Split Completed!\")\n",
    "print(f\"{'='*50}\")\n",
    "\n",
    "print(f\"Training set:\")\n",
    "print(f\"  - Size: {len(X_train)} samples ({len(X_train)/len(data)*100:.1f}%)\")\n",
    "print(f\"  - Positive reviews: {sum(y_train)} ({sum(y_train)/len(y_train)*100:.1f}%)\")\n",
    "print(f\"  - Negative reviews: {len(y_train)-sum(y_train)} ({(len(y_train)-sum(y_train))/len(y_train)*100:.1f}%)\")\n",
    "\n",
    "print(f\"\\nTesting set:\")\n",
    "print(f\"  - Size: {len(X_test)} samples ({len(X_test)/len(data)*100:.1f}%)\")\n",
    "print(f\"  - Positive reviews: {sum(y_test)} ({sum(y_test)/len(y_test)*100:.1f}%)\")\n",
    "print(f\"  - Negative reviews: {len(y_test)-sum(y_test)} ({(len(y_test)-sum(y_test))/len(y_test)*100:.1f}%)\")"
   ]
  },
  {
   "cell_type": "code",
   "execution_count": 15,
   "id": "38978f49",
   "metadata": {},
   "outputs": [
    {
     "name": "stdout",
     "output_type": "stream",
     "text": [
      "🤖 Training Models...\n",
      "==================================================\n",
      "\n",
      "--- Using TF-IDF Vectorizer ---\n",
      "  Naive Bayes: 0.8577 (85.77%)\n",
      "  Logistic Regression: 0.8948 (89.48%)\n",
      "  Random Forest: 0.8531 (85.31%)\n",
      "\n",
      "--- Using Count Vectorizer ---\n",
      "  Naive Bayes: 0.8495 (84.95%)\n",
      "  Logistic Regression: 0.8769 (87.69%)\n",
      "  Random Forest: 0.8532 (85.32%)\n",
      "\n",
      "==================================================\n",
      "📊 MODEL PERFORMANCE SUMMARY\n",
      "==================================================\n",
      "Vectorizer               Model  Accuracy\n",
      "    TF-IDF         Naive Bayes    0.8577\n",
      "    TF-IDF Logistic Regression    0.8948\n",
      "    TF-IDF       Random Forest    0.8531\n",
      "     Count         Naive Bayes    0.8495\n",
      "     Count Logistic Regression    0.8769\n",
      "     Count       Random Forest    0.8532\n",
      "\n",
      " BEST MODEL: Logistic Regression with TF-IDF\n",
      "   Accuracy: 0.8948 (89.48%)\n",
      "\n",
      "📊 Results DataFrame:\n"
     ]
    },
    {
     "data": {
      "text/html": [
       "<div>\n",
       "<style scoped>\n",
       "    .dataframe tbody tr th:only-of-type {\n",
       "        vertical-align: middle;\n",
       "    }\n",
       "\n",
       "    .dataframe tbody tr th {\n",
       "        vertical-align: top;\n",
       "    }\n",
       "\n",
       "    .dataframe thead th {\n",
       "        text-align: right;\n",
       "    }\n",
       "</style>\n",
       "<table border=\"1\" class=\"dataframe\">\n",
       "  <thead>\n",
       "    <tr style=\"text-align: right;\">\n",
       "      <th></th>\n",
       "      <th>Vectorizer</th>\n",
       "      <th>Model</th>\n",
       "      <th>Accuracy</th>\n",
       "    </tr>\n",
       "  </thead>\n",
       "  <tbody>\n",
       "    <tr>\n",
       "      <th>0</th>\n",
       "      <td>TF-IDF</td>\n",
       "      <td>Naive Bayes</td>\n",
       "      <td>0.8577</td>\n",
       "    </tr>\n",
       "    <tr>\n",
       "      <th>1</th>\n",
       "      <td>TF-IDF</td>\n",
       "      <td>Logistic Regression</td>\n",
       "      <td>0.8948</td>\n",
       "    </tr>\n",
       "    <tr>\n",
       "      <th>2</th>\n",
       "      <td>TF-IDF</td>\n",
       "      <td>Random Forest</td>\n",
       "      <td>0.8531</td>\n",
       "    </tr>\n",
       "    <tr>\n",
       "      <th>3</th>\n",
       "      <td>Count</td>\n",
       "      <td>Naive Bayes</td>\n",
       "      <td>0.8495</td>\n",
       "    </tr>\n",
       "    <tr>\n",
       "      <th>4</th>\n",
       "      <td>Count</td>\n",
       "      <td>Logistic Regression</td>\n",
       "      <td>0.8769</td>\n",
       "    </tr>\n",
       "    <tr>\n",
       "      <th>5</th>\n",
       "      <td>Count</td>\n",
       "      <td>Random Forest</td>\n",
       "      <td>0.8532</td>\n",
       "    </tr>\n",
       "  </tbody>\n",
       "</table>\n",
       "</div>"
      ],
      "text/plain": [
       "  Vectorizer                Model  Accuracy\n",
       "0     TF-IDF          Naive Bayes    0.8577\n",
       "1     TF-IDF  Logistic Regression    0.8948\n",
       "2     TF-IDF        Random Forest    0.8531\n",
       "3      Count          Naive Bayes    0.8495\n",
       "4      Count  Logistic Regression    0.8769\n",
       "5      Count        Random Forest    0.8532"
      ]
     },
     "metadata": {},
     "output_type": "display_data"
    },
    {
     "name": "stdout",
     "output_type": "stream",
     "text": [
      "\n",
      "📈 DETAILED STATISTICS:\n",
      "Total model combinations tested: 6\n",
      "Average accuracy across all models: 0.8642\n",
      "Best accuracy achieved: 0.8948\n",
      "Worst accuracy: 0.8495\n",
      "\n",
      "📋 ACCURACY COMPARISON TABLE:\n",
      "Vectorizer            Count  TF-IDF\n",
      "Model                              \n",
      "Logistic Regression  0.8769  0.8948\n",
      "Naive Bayes          0.8495  0.8577\n",
      "Random Forest        0.8532  0.8531\n",
      "\n",
      "🔍 VECTORIZER COMPARISON:\n",
      "Vectorizer\n",
      "Count     0.8599\n",
      "TF-IDF    0.8685\n",
      "Name: Accuracy, dtype: float64\n",
      "\n",
      "🔍 MODEL COMPARISON:\n",
      "Model\n",
      "Logistic Regression    0.8858\n",
      "Naive Bayes            0.8536\n",
      "Random Forest          0.8532\n",
      "Name: Accuracy, dtype: float64\n"
     ]
    }
   ],
   "source": [
    "\n",
    "print(\"🤖 Training Models...\")\n",
    "print(\"=\" * 50)\n",
    "\n",
    "# Define models directly\n",
    "models = {\n",
    "    'Naive Bayes': MultinomialNB(),\n",
    "    'Logistic Regression': LogisticRegression(max_iter=1000),\n",
    "    'Random Forest': RandomForestClassifier(n_estimators=100, random_state=42)\n",
    "}\n",
    "\n",
    "# Define vectorizers directly\n",
    "vectorizers = {\n",
    "    'TF-IDF': TfidfVectorizer(max_features=10000, stop_words='english'),\n",
    "    'Count': CountVectorizer(max_features=10000, stop_words='english')\n",
    "}\n",
    "\n",
    "# Initialize results list\n",
    "results = []\n",
    "\n",
    "# Initialize variables to store best model\n",
    "best_model = None\n",
    "best_vectorizer = None\n",
    "\n",
    "# Training loop - no functions needed\n",
    "for vec_name, vectorizer in vectorizers.items():\n",
    "    print(f\"\\n--- Using {vec_name} Vectorizer ---\")\n",
    "    \n",
    "    # Fit vectorizer and transform data\n",
    "    X_train_vec = vectorizer.fit_transform(X_train)\n",
    "    X_test_vec = vectorizer.transform(X_test)\n",
    "    \n",
    "    for model_name, model in models.items():\n",
    "        # Train model\n",
    "        model.fit(X_train_vec, y_train)  # Make sure to use y_train, not Y_train\n",
    "        \n",
    "        # Predict\n",
    "        y_pred = model.predict(X_test_vec)\n",
    "        accuracy = accuracy_score(y_test, y_pred)  # Make sure to use y_test, not Y_test\n",
    "        \n",
    "        # Store results\n",
    "        results.append({\n",
    "            'Vectorizer': vec_name,\n",
    "            'Model': model_name,\n",
    "            'Accuracy': accuracy\n",
    "        })\n",
    "        \n",
    "        # Store best model (TF-IDF + Logistic Regression)\n",
    "        if vec_name == 'TF-IDF' and model_name == 'Logistic Regression':\n",
    "            best_model = model\n",
    "            best_vectorizer = vectorizer\n",
    "        \n",
    "        # Print results immediately\n",
    "        print(f\"  {model_name}: {accuracy:.4f} ({accuracy*100:.2f}%)\")\n",
    "\n",
    "# Create results DataFrame\n",
    "results_df = pd.DataFrame(results)\n",
    "\n",
    "# Display results nicely\n",
    "print(\"\\n\" + \"=\" * 50)\n",
    "print(\"📊 MODEL PERFORMANCE SUMMARY\")\n",
    "print(\"=\" * 50)\n",
    "print(results_df.to_string(index=False))\n",
    "\n",
    "# Find and display best performing model\n",
    "best_result = results_df.loc[results_df['Accuracy'].idxmax()]\n",
    "print(f\"\\n BEST MODEL: {best_result['Model']} with {best_result['Vectorizer']}\")\n",
    "print(f\"   Accuracy: {best_result['Accuracy']:.4f} ({best_result['Accuracy']*100:.2f}%)\")\n",
    "\n",
    "# Display the results DataFrame as a table\n",
    "print(f\"\\n📊 Results DataFrame:\")\n",
    "display(results_df)  # table\n",
    "\n",
    "# Show additional statistics\n",
    "print(f\"\\n📈 DETAILED STATISTICS:\")\n",
    "print(f\"Total model combinations tested: {len(results_df)}\")\n",
    "print(f\"Average accuracy across all models: {results_df['Accuracy'].mean():.4f}\")\n",
    "print(f\"Best accuracy achieved: {results_df['Accuracy'].max():.4f}\")\n",
    "print(f\"Worst accuracy: {results_df['Accuracy'].min():.4f}\")\n",
    "\n",
    "# Create a pivot table for better visualization\n",
    "print(f\"\\n📋 ACCURACY COMPARISON TABLE:\")\n",
    "pivot_results = results_df.pivot(index='Model', columns='Vectorizer', values='Accuracy')\n",
    "print(pivot_results.round(4))\n",
    "\n",
    "# Show which vectorizer performs better on average\n",
    "print(f\"\\n🔍 VECTORIZER COMPARISON:\")\n",
    "vectorizer_avg = results_df.groupby('Vectorizer')['Accuracy'].mean()\n",
    "print(vectorizer_avg.round(4))\n",
    "\n",
    "print(f\"\\n🔍 MODEL COMPARISON:\")\n",
    "model_avg = results_df.groupby('Model')['Accuracy'].mean()\n",
    "print(model_avg.round(4))"
   ]
  },
  {
   "cell_type": "code",
   "execution_count": 16,
   "id": "333bdcb7",
   "metadata": {},
   "outputs": [],
   "source": [
    "def predict(self, text):\n",
    "        \"\"\"Predict sentiment for new text\"\"\"\n",
    "        if 'best' not in self.models or 'best' not in self.vectorizers:\n",
    "            print(\"❌ Error: Model not trained yet! Please run train_models() first.\")\n",
    "            return None\n",
    "        \n",
    "        cleaned_text = clean_text(text)\n",
    "        text_vec = self.vectorizers['best'].transform([cleaned_text])\n",
    "        prediction = self.models['best'].predict(text_vec)[0]\n",
    "        probability = self.models['best'].predict_proba(text_vec)[0]\n",
    "        \n",
    "        result = {\n",
    "            'prediction': 'Positive' if prediction == 1 else 'Negative',\n",
    "            'confidence': max(probability),\n",
    "            'probabilities': {\n",
    "                'Negative': probability[0],\n",
    "                'Positive': probability[1]\n",
    "            }\n",
    "        }\n",
    "        \n",
    "        # Print the prediction nicely\n",
    "        print(f\"📝 Review: '{text[:60]}{'...' if len(text) > 60 else ''}'\")\n",
    "        print(f\"🎯 Prediction: {result['prediction']}\")\n",
    "        print(f\"💯 Confidence: {result['confidence']:.2%}\")\n",
    "        print(f\"📊 Probabilities:\")\n",
    "        print(f\"   Negative: {result['probabilities']['Negative']:.2%}\")\n",
    "        print(f\"   Positive: {result['probabilities']['Positive']:.2%}\")\n",
    "        \n",
    "        return result\n"
   ]
  },
  {
   "cell_type": "code",
   "execution_count": 17,
   "id": "7a414312",
   "metadata": {},
   "outputs": [],
   "source": [
    "def save_with_pickle(model, vectorizer, filename_prefix='sentiment'):\n",
    "    \"\"\"Save model and vectorizer using pickle\"\"\"\n",
    "    print(\"💾 Saving with Pickle...\")\n",
    "    \n",
    "    # Save the complete analyzer object (recommended)\n",
    "    model_data = {\n",
    "        'model': model,\n",
    "        'vectorizer': vectorizer,\n",
    "        'metadata': {\n",
    "            'created_date': pd.Timestamp.now(),\n",
    "            'model_type': str(type(model).__name__),\n",
    "            'vectorizer_type': str(type(vectorizer).__name__)\n",
    "        }\n",
    "    }\n",
    "    \n",
    "    with open(f'{filename_prefix}_model.pkl', 'wb') as f:\n",
    "        pickle.dump(model_data, f)\n",
    "    \n",
    "    print(f\"✅ Model saved as '{filename_prefix}_model.pkl'\")\n",
    "    \n"
   ]
  },
  {
   "cell_type": "code",
   "execution_count": null,
   "id": "7146ac07",
   "metadata": {},
   "outputs": [],
   "source": []
  },
  {
   "cell_type": "code",
   "execution_count": 18,
   "id": "fe47d85c",
   "metadata": {},
   "outputs": [
    {
     "name": "stdout",
     "output_type": "stream",
     "text": [
      "💾 Saving with Pickle...\n",
      "✅ Model saved as 'sentiment_model.pkl'\n"
     ]
    }
   ],
   "source": [
    "# Save the best model (TF-IDF + Logistic Regression)\n",
    "save_with_pickle(best_model, best_vectorizer, 'sentiment')"
   ]
  },
  {
   "cell_type": "code",
   "execution_count": 19,
   "id": "fce20d95",
   "metadata": {},
   "outputs": [
    {
     "name": "stdout",
     "output_type": "stream",
     "text": [
      "Classification Report:\n",
      "              precision    recall  f1-score   support\n",
      "\n",
      "    Negative       0.85      0.86      0.85      5000\n",
      "    Positive       0.86      0.85      0.85      5000\n",
      "\n",
      "    accuracy                           0.85     10000\n",
      "   macro avg       0.85      0.85      0.85     10000\n",
      "weighted avg       0.85      0.85      0.85     10000\n",
      "\n"
     ]
    },
    {
     "data": {
      "image/png": "[encoded data removed]",
      "text/plain": [
       "<Figure size 800x600 with 2 Axes>"
      ]
     },
     "metadata": {},
     "output_type": "display_data"
    }
   ],
   "source": [
    "# Classification report\n",
    "print(\"Classification Report:\")\n",
    "print(classification_report(y_test, y_pred, target_names=['Negative', 'Positive']))\n",
    "\n",
    "# Confusion Matrix\n",
    "cm = confusion_matrix(y_test, y_pred)\n",
    "plt.figure(figsize=(8, 6))\n",
    "sns.heatmap(cm, annot=True, fmt='d', cmap='Blues')\n",
    "plt.title('Confusion Matrix')\n",
    "plt.ylabel('Actual')\n",
    "plt.xlabel('Predicted')\n",
    "plt.show()"
   ]
  },
  {
   "cell_type": "code",
   "execution_count": 20,
   "id": "66119726",
   "metadata": {},
   "outputs": [
    {
     "name": "stdout",
     "output_type": "stream",
     "text": [
      "\n",
      "📊 Top Important Features (Words):\n"
     ]
    },
    {
     "data": {
      "text/plain": [
       "<Figure size 1500x600 with 0 Axes>"
      ]
     },
     "execution_count": 20,
     "metadata": {},
     "output_type": "execute_result"
    },
    {
     "data": {
      "text/plain": [
       "<Figure size 1500x600 with 0 Axes>"
      ]
     },
     "metadata": {},
     "output_type": "display_data"
    }
   ],
   "source": [
    "print(\"\\n📊 Top Important Features (Words):\")\n",
    "\n",
    "# Get feature names and coefficients\n",
    "feature_names = best_vectorizer.get_feature_names_out()\n",
    "coefficients = best_model.coef_[0]\n",
    "\n",
    "# Create feature importance dataframe\n",
    "feature_df = pd.DataFrame({\n",
    "    'word': feature_names,\n",
    "    'coefficient': coefficients\n",
    "}).sort_values('coefficient')\n",
    "\n",
    "# Top 10 most negative and positive features\n",
    "top_negative = feature_df.head(10)\n",
    "top_positive = feature_df.tail(10)\n",
    "\n",
    "plt.figure(figsize=(15, 6))\n"
   ]
  },
  {
   "cell_type": "code",
   "execution_count": 21,
   "id": "591e80f8",
   "metadata": {},
   "outputs": [
    {
     "data": {
      "image/png": "[encoded data removed]",
      "text/plain": [
       "<Figure size 640x480 with 1 Axes>"
      ]
     },
     "metadata": {},
     "output_type": "display_data"
    }
   ],
   "source": [
    "# Plot negative features\n",
    "plt.subplot(1, 2, 1)\n",
    "plt.barh(range(len(top_negative)), top_negative['coefficient'], color='red', alpha=0.7)\n",
    "plt.yticks(range(len(top_negative)), top_negative['word'])\n",
    "plt.xlabel('Coefficient (Negative Impact)')\n",
    "plt.title('Top 10 Words Indicating NEGATIVE Sentiment')\n",
    "plt.grid(axis='x', alpha=0.3)"
   ]
  },
  {
   "cell_type": "code",
   "execution_count": 22,
   "id": "4943f0fc",
   "metadata": {},
   "outputs": [
    {
     "data": {
      "image/png": "[encoded data removed]",
      "text/plain": [
       "<Figure size 640x480 with 1 Axes>"
      ]
     },
     "metadata": {},
     "output_type": "display_data"
    }
   ],
   "source": [
    "# Plot positive features\n",
    "plt.subplot(1, 2, 2)\n",
    "plt.barh(range(len(top_positive)), top_positive['coefficient'], color='green', alpha=0.7)\n",
    "plt.yticks(range(len(top_positive)), top_positive['word'])\n",
    "plt.xlabel('Coefficient (Positive Impact)')\n",
    "plt.title('Top 10 Words Indicating POSITIVE Sentiment')\n",
    "plt.grid(axis='x', alpha=0.3)\n",
    "\n",
    "plt.tight_layout()\n",
    "plt.show()"
   ]
  },
  {
   "cell_type": "code",
   "execution_count": 27,
   "id": "85d26dfb",
   "metadata": {},
   "outputs": [
    {
     "name": "stdout",
     "output_type": "stream",
     "text": [
      "✅ Saved 'sentiment_for_weka.csv' - Ready for Weka!\n",
      "📋 Features exported: word_count, char_count, exclamation_count, question_count, positive_words, negative_words\n"
     ]
    }
   ],
   "source": [
    "# Create simple features for Weka\n",
    "weka_features = pd.DataFrame({\n",
    "    'word_count': X_test.str.split().str.len(),\n",
    "    'char_count': X_test.str.len(),\n",
    "    'exclamation_count': X_test.str.count('!'),\n",
    "    'question_count': X_test.str.count('\\\\?'),  # Escaped question mark\n",
    "    'positive_words': X_test.str.lower().str.count('good|great|excellent|amazing|wonderful'),\n",
    "    'negative_words': X_test.str.lower().str.count('bad|terrible|awful|horrible|worst'),\n",
    "    'sentiment': y_test.map({1: 'positive', 0: 'negative'})\n",
    "})\n",
    "\n",
    "# Save to CSV for Weka\n",
    "weka_features.to_csv('sentiment_for_weka.csv', index=False)\n",
    "print(\"✅ Saved 'sentiment_for_weka.csv' - Ready for Weka!\")\n",
    "print(\"📋 Features exported: word_count, char_count, exclamation_count, question_count, positive_words, negative_words\")\n",
    "\n",
    "\n"
   ]
  }
 ],
 "metadata": {
  "kernelspec": {
   "display_name": "Python 3",
   "language": "python",
   "name": "python3"
  },
  "language_info": {
   "codemirror_mode": {
    "name": "ipython",
    "version": 3
   },
   "file_extension": ".py",
   "mimetype": "text/x-python",
   "name": "python",
   "nbconvert_exporter": "python",
   "pygments_lexer": "ipython3",
   "version": "3.13.3"
  }
 },
 "nbformat": 4,
 "nbformat_minor": 5
}
